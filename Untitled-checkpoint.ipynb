{
 "cells": [
  {
   "cell_type": "markdown",
   "id": "ac7d2a95",
   "metadata": {},
   "source": [
    "# 0 Setup Paths"
   ]
  },
  {
   "cell_type": "code",
   "execution_count": 11,
   "id": "7240beb2",
   "metadata": {},
   "outputs": [],
   "source": [
    "WORKSPACE_PATH = 'Tensorflow/workspace'\n",
    "SCRIPTS_PATH = 'Tensorflow/scripts'\n",
    "APIMODEL_PATH = 'Tensorflow/models'\n",
    "ANNOTATION_PATH = WORKSPACE_PATH + '/annotations'\n",
    "IMAGE_PATH = WORKSPACE_PATH + '/images'\n",
    "MODEL_PATH = WORKSPACE_PATH + '/models'\n",
    "PRETRAINED_MODEL_PATH = WORKSPACE_PATH + '/pre-trained-models'\n",
    "CONFIG_PATH = MODEL_PATH + '/my_ssd_mobnet/pipeline.config'\n",
    "CHECKPOINT_PATH = MODEL_PATH + '/my_ssd_mobnet/'"
   ]
  },
  {
   "cell_type": "markdown",
   "id": "c22a4618",
   "metadata": {},
   "source": [
    "# 1 Create Label Map"
   ]
  },
  {
   "cell_type": "code",
   "execution_count": 3,
   "id": "3465ec74",
   "metadata": {},
   "outputs": [],
   "source": [
    "labels = [{'name':'with_mask', 'id':1}, {'name':'without_mask', 'id':2}, {'name':'mask_weared_incorrect', 'id':3}]"
   ]
  },
  {
   "cell_type": "code",
   "execution_count": 5,
   "id": "bf910901",
   "metadata": {},
   "outputs": [
    {
     "data": {
      "text/plain": [
       "[{'name': 'with_mask', 'id': 1},\n",
       " {'name': 'without_mask', 'id': 2},\n",
       " {'name': 'mask_weared_incorrect', 'id': 3}]"
      ]
     },
     "execution_count": 5,
     "metadata": {},
     "output_type": "execute_result"
    }
   ],
   "source": [
    "labels"
   ]
  },
  {
   "cell_type": "code",
   "execution_count": 9,
   "id": "2fdceab4",
   "metadata": {},
   "outputs": [],
   "source": [
    "with open(ANNOTATION_PATH + '\\label_map.pbtxt', 'w') as f:\n",
    "    for label in labels:\n",
    "        f.write('item{\\n')\n",
    "        f.write('\\tname:\\'{}\\'\\n'.format(label['name']))\n",
    "        f.write('\\tid:{}\\n'.format(label['id']))\n",
    "        f.write('}\\n')"
   ]
  },
  {
   "cell_type": "markdown",
   "id": "2665c421",
   "metadata": {},
   "source": [
    "# 2 Create TF Records"
   ]
  },
  {
   "cell_type": "code",
   "execution_count": 10,
   "id": "df31bc11",
   "metadata": {},
   "outputs": [
    {
     "name": "stderr",
     "output_type": "stream",
     "text": [
      "Traceback (most recent call last):\n",
      "  File \"Tensorflow/scripts/generate_tfrecord.py\", line 21, in <module>\n",
      "    import pandas as pd\n",
      "ModuleNotFoundError: No module named 'pandas'\n"
     ]
    }
   ],
   "source": [
    "!python {SCRIPTS_PATH + '/generate_tfrecord.py'} -x {IMAGE_PATH + '/train'} -l {ANNOTATION_PATH + '/label_map.pbtxt'} -o {ANNOTATION_PATH + '/train.record'} "
   ]
  },
  {
   "cell_type": "markdown",
   "id": "2c098784",
   "metadata": {},
   "source": [
    "# 3 Download Tensorflow models"
   ]
  },
  {
   "cell_type": "markdown",
   "id": "acbe811a",
   "metadata": {},
   "source": [
    "# 4 Copy model config to training folder"
   ]
  },
  {
   "cell_type": "markdown",
   "id": "c9e09ee5",
   "metadata": {},
   "source": [
    "# 5 Update Config for Transfer Learning"
   ]
  },
  {
   "cell_type": "markdown",
   "id": "f42671a6",
   "metadata": {},
   "source": [
    "# 6 Train the model"
   ]
  },
  {
   "cell_type": "markdown",
   "id": "458e015a",
   "metadata": {},
   "source": [
    "# 7 Load train model from checkpoint"
   ]
  },
  {
   "cell_type": "markdown",
   "id": "5e517fd8",
   "metadata": {},
   "source": [
    "# 8 Detect in real-time"
   ]
  },
  {
   "cell_type": "code",
   "execution_count": null,
   "id": "7a01272b",
   "metadata": {},
   "outputs": [],
   "source": []
  }
 ],
 "metadata": {
  "kernelspec": {
   "display_name": "Python 3 (ipykernel)",
   "language": "python",
   "name": "python3"
  },
  "language_info": {
   "codemirror_mode": {
    "name": "ipython",
    "version": 3
   },
   "file_extension": ".py",
   "mimetype": "text/x-python",
   "name": "python",
   "nbconvert_exporter": "python",
   "pygments_lexer": "ipython3",
   "version": "3.7.4"
  }
 },
 "nbformat": 4,
 "nbformat_minor": 5
}
